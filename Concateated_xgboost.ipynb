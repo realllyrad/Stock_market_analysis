{
 "cells": [
  {
   "cell_type": "code",
   "execution_count": 2,
   "id": "47de8c10",
   "metadata": {},
   "outputs": [],
   "source": [
    "import numpy as np\n",
    "import pandas as pd\n",
    "import seaborn as sns\n",
    "import matplotlib.pyplot as plt\n",
    "from sklearn import preprocessing, svm\n",
    "from sklearn.model_selection import train_test_split\n",
    "from sklearn.linear_model import LinearRegression\n",
    "from sklearn.model_selection import TimeSeriesSplit\n",
    "from sklearn.datasets import make_classification\n",
    "from sklearn.pipeline import make_pipeline\n",
    "from sklearn.preprocessing import StandardScaler\n",
    "from sklearn import metrics\n",
    "from sklearn.preprocessing import OneHotEncoder\n",
    "import xgboost as xgb\n",
    "from sklearn.metrics import mean_absolute_percentage_error\n",
    "\n",
    "def mean_absolute_percentage_error(y_true, y_pred):\n",
    "    return np.mean(np.abs((y_true - y_pred) / y_true)) * 100\n",
    "\n",
    "df = pd.read_csv('NIFTY50_all.csv')\n",
    "df.drop(['Trades', 'Deliverable Volume', 'Volume', 'Turnover', '%Deliverble','Series'], inplace = True,axis=1)\n",
    "scaler = StandardScaler()\n",
    "df[['Prev Close', 'Open', 'High', 'Low', 'Last', 'Close', 'VWAP']] = scaler.fit_transform(df[['Prev Close', 'Open', 'High', 'Low', 'Last', 'Close', 'VWAP']])"
   ]
  },
  {
   "cell_type": "code",
   "execution_count": 3,
   "id": "82cd23db",
   "metadata": {},
   "outputs": [
    {
     "name": "stdout",
     "output_type": "stream",
     "text": [
      "3.3799016436783353\n"
     ]
    }
   ],
   "source": [
    "symbol_data = df[['Symbol']]\n",
    "encoder = OneHotEncoder(sparse_output= False)\n",
    "encoded_data = encoder.fit_transform(symbol_data)\n",
    "encoded_df = pd.DataFrame(encoded_data, columns=encoder.categories_[0])\n",
    "df = pd.concat([df, encoded_df], axis=1)\n",
    "train_percentage = 0.8\n",
    "train_data = []\n",
    "test_data = []\n",
    "for symbol, company_data in df.groupby('Symbol'):\n",
    "    split_index = int(len(company_data) * train_percentage)\n",
    "    train_set = company_data[:split_index]\n",
    "    test_set = company_data[split_index:]\n",
    "    train_data.append(train_set)\n",
    "    test_data.append(test_set)\n",
    "train_data = pd.concat(train_data)\n",
    "test_data = pd.concat(test_data)\n",
    "df=df.drop('Symbol', axis=1)\n",
    "train_data=train_data.drop('Symbol', axis=1)\n",
    "test_data=test_data.drop('Symbol', axis=1)\n",
    "\n",
    "train_data['year'] = pd.to_datetime(df.Date).dt.year\n",
    "train_data.set_index('year', inplace=True)\n",
    "train_data.sort_index(inplace=True)\n",
    "test_data['year'] = pd.to_datetime(df.Date).dt.year\n",
    "test_data.set_index('year', inplace=True)\n",
    "test_data.sort_index(inplace=True)\n",
    "\n",
    "X_train= train_data.drop(labels=['Open', 'Date'], axis=1)\n",
    "X_test= test_data.drop(labels=['Open', 'Date'], axis=1)\n",
    "y_train = train_data['Open']\n",
    "y_test = test_data['Open']\n",
    "\n",
    "\n",
    "\n",
    "xgb_reg = xgb.XGBRegressor()\n",
    "xgb_reg.fit(X_train, y_train)\n",
    "\n",
    "y_pred = xgb_reg.predict(X_test)\n",
    "\n",
    "mape = mean_absolute_percentage_error(y_test, y_pred)\n",
    "print(mape)\n"
   ]
  },
  {
   "cell_type": "code",
   "execution_count": null,
   "id": "67ac6041",
   "metadata": {},
   "outputs": [],
   "source": []
  }
 ],
 "metadata": {
  "kernelspec": {
   "display_name": "Python 3 (ipykernel)",
   "language": "python",
   "name": "python3"
  },
  "language_info": {
   "codemirror_mode": {
    "name": "ipython",
    "version": 3
   },
   "file_extension": ".py",
   "mimetype": "text/x-python",
   "name": "python",
   "nbconvert_exporter": "python",
   "pygments_lexer": "ipython3",
   "version": "3.10.2"
  }
 },
 "nbformat": 4,
 "nbformat_minor": 5
}
