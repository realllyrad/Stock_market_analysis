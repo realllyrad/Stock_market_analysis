{
 "cells": [
  {
   "cell_type": "code",
   "execution_count": 1,
   "id": "e47cbb3c",
   "metadata": {},
   "outputs": [
    {
     "name": "stderr",
     "output_type": "stream",
     "text": [
      "None of PyTorch, TensorFlow >= 2.0, or Flax have been found. Models won't be available and only tokenizers, configuration and file/data utilities can be used.\n"
     ]
    }
   ],
   "source": [
    "import numpy as np\n",
    "import pandas as pd\n",
    "import seaborn as sns\n",
    "import matplotlib.pyplot as plt\n",
    "from sklearn import preprocessing, svm\n",
    "from sklearn.model_selection import train_test_split\n",
    "from sklearn.linear_model import LinearRegression\n",
    "from sklearn.model_selection import TimeSeriesSplit\n",
    "from sklearn.datasets import make_classification\n",
    "from sklearn.pipeline import make_pipeline\n",
    "from sklearn.preprocessing import StandardScaler\n",
    "from transformers import pipeline\n",
    "from sklearn import metrics\n",
    "\n",
    "def mean_absolute_percentage_error(y_true, y_pred):\n",
    "    return np.mean(np.abs((y_true - y_pred) / y_true)) * 100\n",
    "\n",
    "files = ['ADANIPORTS.csv', 'ASIANPAINT.csv', 'AXISBANK.csv', 'BAJAJ-AUTO.csv', 'BAJAJFINSV.csv', 'BAJFINANCE.csv', 'BHARTIARTL.csv', 'BPCL.csv', 'BRITANNIA.csv', 'CIPLA.csv', 'COALINDIA.csv', 'DRREDDY.csv', 'EICHERMOT.csv', 'GAIL.csv', 'GRASIM.csv', 'HCLTECH.csv', 'HDFC.csv', 'HDFCBANK.csv', 'HEROMOTOCO.csv', 'HINDALCO.csv', 'HINDUNILVR.csv', 'ICICIBANK.csv', 'INDUSINDBK.csv','INFY.csv', 'IOC.csv', 'ITC.csv', 'JSWSTEEL.csv', 'KOTAKBANK.csv', 'LT.csv', 'MARUTI.csv', 'MM.csv', 'NESTLEIND.csv', 'NTPC.csv', 'ONGC.csv', 'POWERGRID.csv', 'RELIANCE.csv', 'SBIN.csv', 'SHREECEM.csv', 'SUNPHARMA.csv', 'TATAMOTORS.csv', 'TATASTEEL.csv', 'TCS.csv', 'TECHM.csv', 'TITAN.csv', 'ULTRACEMCO.csv', 'UPL.csv', 'VEDL.csv', 'WIPRO.csv', 'ZEEL.csv']\n",
    "AvgMAPE=[]"
   ]
  },
  {
   "cell_type": "code",
   "execution_count": 3,
   "id": "aea7e815",
   "metadata": {},
   "outputs": [],
   "source": [
    "for file in files:\n",
    "    df = pd.read_csv(file)\n",
    "    df.drop(['Trades', 'Deliverable Volume', 'Volume', 'Turnover', '%Deliverble', 'Symbol', 'Series'], inplace = True,axis=1)\n",
    "    scaler = StandardScaler()\n",
    "    df[['Prev Close', 'Open', 'High', 'Low', 'Last', 'Close', 'VWAP']] = scaler.fit_transform(df[['Prev Close', 'Open', 'High', 'Low', 'Last', 'Close', 'VWAP']]) \n",
    "    df['year'] = pd.to_datetime(df.Date).dt.year\n",
    "    df.set_index('year', inplace=True)\n",
    "    df.sort_index(inplace=True)\n",
    "    mape_values = []\n",
    "    X = df.drop(labels=['Open', 'Date'], axis=1)\n",
    "    y = df['Open']\n",
    "    \n",
    "    linreg = LinearRegression()\n",
    "    tss = TimeSeriesSplit(n_splits = 5)\n",
    "    \n",
    "    for train_index, test_index in tss.split(X):\n",
    "        X_train, X_test = X.iloc[train_index, :], X.iloc[test_index,:]\n",
    "        y_train, y_test = y.iloc[train_index], y.iloc[test_index]\n",
    "        linreg.fit(X_train, y_train)\n",
    "        y_pred = linreg.predict(X_test)\n",
    "        mape = mean_absolute_percentage_error(y_test, y_pred)\n",
    "        mape_values.append(mape)\n",
    "    \n",
    "    average_mape = np.mean(mape_values)\n",
    "    AvgMAPE.append(average_mape)\n",
    "    "
   ]
  },
  {
   "cell_type": "code",
   "execution_count": 4,
   "id": "c1f755d3",
   "metadata": {},
   "outputs": [
    {
     "data": {
      "text/plain": [
       "8.219262085781056"
      ]
     },
     "execution_count": 4,
     "metadata": {},
     "output_type": "execute_result"
    }
   ],
   "source": [
    "np.mean(AvgMAPE)"
   ]
  },
  {
   "cell_type": "code",
   "execution_count": null,
   "id": "742d76d0",
   "metadata": {},
   "outputs": [],
   "source": [
    "\n"
   ]
  }
 ],
 "metadata": {
  "kernelspec": {
   "display_name": "Python 3 (ipykernel)",
   "language": "python",
   "name": "python3"
  },
  "language_info": {
   "codemirror_mode": {
    "name": "ipython",
    "version": 3
   },
   "file_extension": ".py",
   "mimetype": "text/x-python",
   "name": "python",
   "nbconvert_exporter": "python",
   "pygments_lexer": "ipython3",
   "version": "3.10.2"
  }
 },
 "nbformat": 4,
 "nbformat_minor": 5
}
